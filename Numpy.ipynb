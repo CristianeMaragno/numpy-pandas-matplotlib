{
 "cells": [
  {
   "cell_type": "markdown",
   "id": "da365147",
   "metadata": {},
   "source": [
    "# Introduction\n",
    "Numpy is a linear algebra library"
   ]
  },
  {
   "cell_type": "code",
   "execution_count": 4,
   "id": "6d9835b0",
   "metadata": {
    "scrolled": false
   },
   "outputs": [
    {
     "ename": "SyntaxError",
     "evalue": "invalid syntax (2868764268.py, line 3)",
     "output_type": "error",
     "traceback": [
      "\u001b[0;36m  Cell \u001b[0;32mIn[4], line 3\u001b[0;36m\u001b[0m\n\u001b[0;31m    pip install numpy # If you use the pip package manager\u001b[0m\n\u001b[0m        ^\u001b[0m\n\u001b[0;31mSyntaxError\u001b[0m\u001b[0;31m:\u001b[0m invalid syntax\n"
     ]
    }
   ],
   "source": [
    "#To install\n",
    "conda install numpy # If you use anaconda environment management\n",
    "pip install numpy # If you use the pip package manager"
   ]
  },
  {
   "cell_type": "code",
   "execution_count": 5,
   "id": "85fb2e81",
   "metadata": {},
   "outputs": [],
   "source": [
    "import numpy as np"
   ]
  },
  {
   "cell_type": "markdown",
   "id": "71c2cb32",
   "metadata": {},
   "source": [
    "# Arrays"
   ]
  },
  {
   "cell_type": "code",
   "execution_count": 6,
   "id": "6f143254",
   "metadata": {},
   "outputs": [
    {
     "data": {
      "text/plain": [
       "array([1, 2, 3])"
      ]
     },
     "execution_count": 6,
     "metadata": {},
     "output_type": "execute_result"
    }
   ],
   "source": [
    "# Creating numpy arrays from python list\n",
    "my_list = [1,2,3]\n",
    "np.array(my_list)"
   ]
  },
  {
   "cell_type": "code",
   "execution_count": 7,
   "id": "73a5d852",
   "metadata": {},
   "outputs": [
    {
     "data": {
      "text/plain": [
       "array([[1, 2, 3],\n",
       "       [4, 5, 6],\n",
       "       [7, 8, 9]])"
      ]
     },
     "execution_count": 7,
     "metadata": {},
     "output_type": "execute_result"
    }
   ],
   "source": [
    "my_matrix = [[1,2,3],[4,5,6],[7,8,9]]\n",
    "np.array(my_matrix)"
   ]
  },
  {
   "cell_type": "code",
   "execution_count": 11,
   "id": "daa449db",
   "metadata": {},
   "outputs": [
    {
     "data": {
      "text/plain": [
       "array([ 0,  2,  4,  6,  8, 10])"
      ]
     },
     "execution_count": 11,
     "metadata": {},
     "output_type": "execute_result"
    }
   ],
   "source": [
    "# Build-in methods to generate Arrays\n",
    "\n",
    "# arange: Return evenly spaced values within a given interval\n",
    "np.arange(0,10)\n",
    "np.arange(0,11,2)"
   ]
  },
  {
   "cell_type": "code",
   "execution_count": 13,
   "id": "c8487cf8",
   "metadata": {},
   "outputs": [
    {
     "data": {
      "text/plain": [
       "array([[1., 1., 1.],\n",
       "       [1., 1., 1.],\n",
       "       [1., 1., 1.]])"
      ]
     },
     "execution_count": 13,
     "metadata": {},
     "output_type": "execute_result"
    }
   ],
   "source": [
    "# zeros and ones\n",
    "np.zeros(3)\n",
    "np.zeros((2,2))\n",
    "\n",
    "np.ones(5)\n",
    "np.ones((3,3))"
   ]
  },
  {
   "cell_type": "code",
   "execution_count": 14,
   "id": "3679a2cf",
   "metadata": {},
   "outputs": [
    {
     "data": {
      "text/plain": [
       "array([ 0.,  5., 10.])"
      ]
     },
     "execution_count": 14,
     "metadata": {},
     "output_type": "execute_result"
    }
   ],
   "source": [
    "# linspace: Return evenly spaced numbers over a specified interval\n",
    "np.linspace(0,10,3)"
   ]
  },
  {
   "cell_type": "code",
   "execution_count": 15,
   "id": "db577d09",
   "metadata": {},
   "outputs": [
    {
     "data": {
      "text/plain": [
       "array([[1., 0., 0., 0.],\n",
       "       [0., 1., 0., 0.],\n",
       "       [0., 0., 1., 0.],\n",
       "       [0., 0., 0., 1.]])"
      ]
     },
     "execution_count": 15,
     "metadata": {},
     "output_type": "execute_result"
    }
   ],
   "source": [
    "# eye: Creates an identity matrix\n",
    "np.eye(4)"
   ]
  },
  {
   "cell_type": "code",
   "execution_count": 20,
   "id": "5681a665",
   "metadata": {},
   "outputs": [
    {
     "data": {
      "text/plain": [
       "array([ 4, 72, 13, 37, 55,  7, 48, 69, 13, 14])"
      ]
     },
     "execution_count": 20,
     "metadata": {},
     "output_type": "execute_result"
    }
   ],
   "source": [
    "# Random: Creates random number array\n",
    "\n",
    "# rand: Create an array of given shape and populate it with random samples from a uniform distribution [0,1]\n",
    "np.random.rand(2)\n",
    "\n",
    "# randn: Return a sample(or samples) from \"standard normal\" distribution. Unlike rand which is uniform\n",
    "np.random.randn(7)\n",
    "\n",
    "# randint: Return random integers from low(inclusive) to high(exclusive)\n",
    "np.random.randint(1,100)\n",
    "np.random.randint(1,100,10)"
   ]
  },
  {
   "cell_type": "code",
   "execution_count": 30,
   "id": "af024679",
   "metadata": {},
   "outputs": [
    {
     "data": {
      "text/plain": [
       "dtype('int64')"
      ]
     },
     "execution_count": 30,
     "metadata": {},
     "output_type": "execute_result"
    }
   ],
   "source": [
    "# Array attributes and methods\n",
    "\n",
    "# reshape: Returns an array containing the same data with a new shape\n",
    "arr = np.arange(25)\n",
    "arr.reshape(5,5)\n",
    "\n",
    "# Methods for finding values\n",
    "arr.max() # Max value\n",
    "arr.min() # Min value\n",
    "arr.argmax()\n",
    "arr.argmin()\n",
    "\n",
    "# dtype: Grab the data type of the object in the array\n",
    "arr.dtype"
   ]
  },
  {
   "cell_type": "markdown",
   "id": "75d94bf1",
   "metadata": {},
   "source": [
    "# Indexing and selection"
   ]
  },
  {
   "cell_type": "code",
   "execution_count": 31,
   "id": "11e86385",
   "metadata": {},
   "outputs": [
    {
     "data": {
      "text/plain": [
       "array([1, 2, 3, 4])"
      ]
     },
     "execution_count": 31,
     "metadata": {},
     "output_type": "execute_result"
    }
   ],
   "source": [
    "# Bracket indexing and selection\n",
    "arr[8]\n",
    "\n",
    "arr[1:5]"
   ]
  },
  {
   "cell_type": "code",
   "execution_count": 42,
   "id": "6280e75a",
   "metadata": {},
   "outputs": [
    {
     "data": {
      "text/plain": [
       "array([[2, 3],\n",
       "       [5, 6]])"
      ]
     },
     "execution_count": 42,
     "metadata": {},
     "output_type": "execute_result"
    }
   ],
   "source": [
    "# Broadcasting: Numpy arrays differ from normal python lists because of their ability to \n",
    "# broadcast(Setting a value with index range)\n",
    "arr = np.arange(0,11)\n",
    "arr[0:5] = 100\n",
    "\n",
    "matrix = [[1,2,3],[4,5,6],[7,8,9]]\n",
    "array_2d = np.array(matrix)\n",
    "array_2d[:2,1:]"
   ]
  },
  {
   "cell_type": "code",
   "execution_count": 43,
   "id": "8bf8545c",
   "metadata": {},
   "outputs": [
    {
     "data": {
      "text/plain": [
       "array([False, False, False, False,  True,  True,  True,  True,  True,\n",
       "        True])"
      ]
     },
     "execution_count": 43,
     "metadata": {},
     "output_type": "execute_result"
    }
   ],
   "source": [
    "# Selection\n",
    "\n",
    "arr = np.arange(1,11)\n",
    "arr > 4"
   ]
  },
  {
   "cell_type": "code",
   "execution_count": 44,
   "id": "5fc9973c",
   "metadata": {},
   "outputs": [
    {
     "data": {
      "text/plain": [
       "array([ 5,  6,  7,  8,  9, 10])"
      ]
     },
     "execution_count": 44,
     "metadata": {},
     "output_type": "execute_result"
    }
   ],
   "source": [
    "bool_arr = arr > 4\n",
    "arr[bool_arr]"
   ]
  },
  {
   "cell_type": "markdown",
   "id": "ff13b03e",
   "metadata": {},
   "source": [
    "# Operations"
   ]
  },
  {
   "cell_type": "code",
   "execution_count": 49,
   "id": "e4d7b9fd",
   "metadata": {},
   "outputs": [
    {
     "data": {
      "text/plain": [
       "array([0.        , 0.69314718, 1.09861229, 1.38629436, 1.60943791,\n",
       "       1.79175947, 1.94591015, 2.07944154, 2.19722458])"
      ]
     },
     "execution_count": 49,
     "metadata": {},
     "output_type": "execute_result"
    }
   ],
   "source": [
    "arr = np.arange(1,10)\n",
    "\n",
    "# Sum\n",
    "arr + arr\n",
    "\n",
    "# Mulplication\n",
    "arr * arr\n",
    "\n",
    "# Sub\n",
    "arr - arr\n",
    "\n",
    "# Division\n",
    "arr/arr\n",
    "\n",
    "# Exponent\n",
    "arr *3 \n",
    "\n",
    "# Square root\n",
    "np.sqrt(arr)\n",
    "\n",
    "# Exponent\n",
    "np.exp(arr)\n",
    "\n",
    "# Sum maxs\n",
    "np.max(arr)\n",
    "\n",
    "# Sen\n",
    "np.sin(arr)\n",
    "\n",
    "# log\n",
    "np.log(arr)"
   ]
  },
  {
   "cell_type": "code",
   "execution_count": null,
   "id": "6844021b",
   "metadata": {},
   "outputs": [],
   "source": []
  }
 ],
 "metadata": {
  "kernelspec": {
   "display_name": "Python 3 (ipykernel)",
   "language": "python",
   "name": "python3"
  },
  "language_info": {
   "codemirror_mode": {
    "name": "ipython",
    "version": 3
   },
   "file_extension": ".py",
   "mimetype": "text/x-python",
   "name": "python",
   "nbconvert_exporter": "python",
   "pygments_lexer": "ipython3",
   "version": "3.11.4"
  }
 },
 "nbformat": 4,
 "nbformat_minor": 5
}
