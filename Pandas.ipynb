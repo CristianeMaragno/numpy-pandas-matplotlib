{
 "cells": [
  {
   "cell_type": "markdown",
   "id": "cbebb680",
   "metadata": {},
   "source": [
    "# Introduction\n",
    "\n",
    "Pandas is an open source library built on top of numpy\n",
    "- It allows for fast analysis and data cleaning and preparation\n",
    "- Has built-in viualization features\n",
    "- Has suport with data from a wide variety of sources"
   ]
  },
  {
   "cell_type": "code",
   "execution_count": null,
   "id": "1d6eaec1",
   "metadata": {},
   "outputs": [],
   "source": [
    "# Instalation\n",
    "conda install pandas # If you use anaconda environment management\n",
    "pip install pandas # If you use the pip package manager"
   ]
  },
  {
   "cell_type": "code",
   "execution_count": 1,
   "id": "ea6ba2c4",
   "metadata": {},
   "outputs": [],
   "source": [
    "import pandas as pd"
   ]
  },
  {
   "cell_type": "code",
   "execution_count": null,
   "id": "7a41946d",
   "metadata": {},
   "outputs": [],
   "source": []
  }
 ],
 "metadata": {
  "kernelspec": {
   "display_name": "Python 3 (ipykernel)",
   "language": "python",
   "name": "python3"
  },
  "language_info": {
   "codemirror_mode": {
    "name": "ipython",
    "version": 3
   },
   "file_extension": ".py",
   "mimetype": "text/x-python",
   "name": "python",
   "nbconvert_exporter": "python",
   "pygments_lexer": "ipython3",
   "version": "3.11.4"
  }
 },
 "nbformat": 4,
 "nbformat_minor": 5
}
